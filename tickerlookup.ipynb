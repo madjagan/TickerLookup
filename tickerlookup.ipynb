{
 "metadata": {
  "language_info": {
   "codemirror_mode": {
    "name": "ipython",
    "version": 3
   },
   "file_extension": ".py",
   "mimetype": "text/x-python",
   "name": "python",
   "nbconvert_exporter": "python",
   "pygments_lexer": "ipython3",
   "version": "3.6.10"
  },
  "orig_nbformat": 2,
  "kernelspec": {
   "name": "python3610jvsc74a57bd0fc357e34511a53eae270b4afc1f91f59e492b0e658d5d3977a8f9808bb68a566",
   "display_name": "Python 3.6.10 64-bit ('base': conda)"
  }
 },
 "nbformat": 4,
 "nbformat_minor": 2,
 "cells": [
  {
   "cell_type": "code",
   "execution_count": 1,
   "metadata": {},
   "outputs": [],
   "source": [
    "import yfinance as yf\n",
    "import investpy\n",
    "import pandas as pd\n",
    "import talib\n",
    "import datetime as dt\n",
    "import numpy as np\n",
    "import talib as ta"
   ]
  },
  {
   "cell_type": "code",
   "execution_count": 2,
   "metadata": {},
   "outputs": [],
   "source": [
    "nifty50list='https://www1.nseindia.com/content/indices/ind_nifty50list.csv'\n",
    "nifty50listdf=pd.read_csv(nifty50list)\n",
    "nifty50list=nifty50listdf['Symbol'].to_list()\n",
    "nifty50=[i+'.NS' for i in nifty50list]\n",
    "\n",
    "nifty500list='https://www1.nseindia.com/content/indices/ind_nifty500list.csv'\n",
    "nifty500listdf=pd.read_csv(nifty500list)\n",
    "nifty500list=nifty500listdf['Symbol'].to_list()\n",
    "nifty500=[i+'.NS' for i in nifty500list]"
   ]
  },
  {
   "cell_type": "code",
   "execution_count": 4,
   "metadata": {},
   "outputs": [],
   "source": [
    "#nifty500list"
   ]
  },
  {
   "cell_type": "code",
   "execution_count": 6,
   "metadata": {},
   "outputs": [
    {
     "output_type": "execute_result",
     "data": {
      "text/plain": [
       "'NoSymbol'"
      ]
     },
     "metadata": {},
     "execution_count": 6
    }
   ],
   "source": [
    "def get_investpy_symbol(isin):\n",
    "    return invdf[(invdf['isin']==isin)]['symbol'].iloc[0]\n",
    "#get_investpy_symbol('INE647Z01017')\n",
    "\n",
    "# Get the \n",
    "def add_investpy_symbol(df_row):\n",
    "    try:\n",
    "        invpy_symbol=get_investpy_symbol(df_row['ISIN Code'])    \n",
    "    except:\n",
    "        invpy_symbol='NoSymbol'\n",
    "    return invpy_symbol\n",
    "add_investpy_symbol(nifty500listdf.iloc[3])"
   ]
  },
  {
   "cell_type": "code",
   "execution_count": 8,
   "metadata": {},
   "outputs": [],
   "source": [
    "invdf=investpy.stocks.get_stocks('india')"
   ]
  },
  {
   "cell_type": "code",
   "execution_count": 10,
   "metadata": {},
   "outputs": [
    {
     "output_type": "execute_result",
     "data": {
      "text/plain": [
       "                                  Company Name  \\\n",
       "0                                3M India Ltd.   \n",
       "1                               ABB India Ltd.   \n",
       "2    ABB Power Products and Systems India Ltd.   \n",
       "3                                     ACC Ltd.   \n",
       "4                         AIA Engineering Ltd.   \n",
       "..                                         ...   \n",
       "496                              Yes Bank Ltd.   \n",
       "497         Zee Entertainment Enterprises Ltd.   \n",
       "498                    Zensar Technolgies Ltd.   \n",
       "499                        Zydus Wellness Ltd.   \n",
       "500                       eClerx Services Ltd.   \n",
       "\n",
       "                              Industry      Symbol Series     ISIN Code  \\\n",
       "0                       CONSUMER GOODS     3MINDIA     EQ  INE470A01017   \n",
       "1             INDUSTRIAL MANUFACTURING         ABB     EQ  INE117A01022   \n",
       "2             INDUSTRIAL MANUFACTURING  POWERINDIA     EQ  INE07Y701011   \n",
       "3             CEMENT & CEMENT PRODUCTS         ACC     EQ  INE012A01025   \n",
       "4             INDUSTRIAL MANUFACTURING      AIAENG     EQ  INE212H01026   \n",
       "..                                 ...         ...    ...           ...   \n",
       "496                 FINANCIAL SERVICES     YESBANK     EQ  INE528G01035   \n",
       "497  MEDIA ENTERTAINMENT & PUBLICATION        ZEEL     EQ  INE256A01028   \n",
       "498                                 IT  ZENSARTECH     EQ  INE520A01027   \n",
       "499                     CONSUMER GOODS   ZYDUSWELL     EQ  INE768C01010   \n",
       "500                                 IT      ECLERX     EQ  INE738I01010   \n",
       "\n",
       "    invpy_symbol  \n",
       "0           TMIN  \n",
       "1            ABB  \n",
       "2       NoSymbol  \n",
       "3            ACC  \n",
       "4           AIAE  \n",
       "..           ...  \n",
       "496     NoSymbol  \n",
       "497          ZEE  \n",
       "498         ZENT  \n",
       "499         ZYDS  \n",
       "500         ECLE  \n",
       "\n",
       "[501 rows x 6 columns]"
      ],
      "text/html": "<div>\n<style scoped>\n    .dataframe tbody tr th:only-of-type {\n        vertical-align: middle;\n    }\n\n    .dataframe tbody tr th {\n        vertical-align: top;\n    }\n\n    .dataframe thead th {\n        text-align: right;\n    }\n</style>\n<table border=\"1\" class=\"dataframe\">\n  <thead>\n    <tr style=\"text-align: right;\">\n      <th></th>\n      <th>Company Name</th>\n      <th>Industry</th>\n      <th>Symbol</th>\n      <th>Series</th>\n      <th>ISIN Code</th>\n      <th>invpy_symbol</th>\n    </tr>\n  </thead>\n  <tbody>\n    <tr>\n      <th>0</th>\n      <td>3M India Ltd.</td>\n      <td>CONSUMER GOODS</td>\n      <td>3MINDIA</td>\n      <td>EQ</td>\n      <td>INE470A01017</td>\n      <td>TMIN</td>\n    </tr>\n    <tr>\n      <th>1</th>\n      <td>ABB India Ltd.</td>\n      <td>INDUSTRIAL MANUFACTURING</td>\n      <td>ABB</td>\n      <td>EQ</td>\n      <td>INE117A01022</td>\n      <td>ABB</td>\n    </tr>\n    <tr>\n      <th>2</th>\n      <td>ABB Power Products and Systems India Ltd.</td>\n      <td>INDUSTRIAL MANUFACTURING</td>\n      <td>POWERINDIA</td>\n      <td>EQ</td>\n      <td>INE07Y701011</td>\n      <td>NoSymbol</td>\n    </tr>\n    <tr>\n      <th>3</th>\n      <td>ACC Ltd.</td>\n      <td>CEMENT &amp; CEMENT PRODUCTS</td>\n      <td>ACC</td>\n      <td>EQ</td>\n      <td>INE012A01025</td>\n      <td>ACC</td>\n    </tr>\n    <tr>\n      <th>4</th>\n      <td>AIA Engineering Ltd.</td>\n      <td>INDUSTRIAL MANUFACTURING</td>\n      <td>AIAENG</td>\n      <td>EQ</td>\n      <td>INE212H01026</td>\n      <td>AIAE</td>\n    </tr>\n    <tr>\n      <th>...</th>\n      <td>...</td>\n      <td>...</td>\n      <td>...</td>\n      <td>...</td>\n      <td>...</td>\n      <td>...</td>\n    </tr>\n    <tr>\n      <th>496</th>\n      <td>Yes Bank Ltd.</td>\n      <td>FINANCIAL SERVICES</td>\n      <td>YESBANK</td>\n      <td>EQ</td>\n      <td>INE528G01035</td>\n      <td>NoSymbol</td>\n    </tr>\n    <tr>\n      <th>497</th>\n      <td>Zee Entertainment Enterprises Ltd.</td>\n      <td>MEDIA ENTERTAINMENT &amp; PUBLICATION</td>\n      <td>ZEEL</td>\n      <td>EQ</td>\n      <td>INE256A01028</td>\n      <td>ZEE</td>\n    </tr>\n    <tr>\n      <th>498</th>\n      <td>Zensar Technolgies Ltd.</td>\n      <td>IT</td>\n      <td>ZENSARTECH</td>\n      <td>EQ</td>\n      <td>INE520A01027</td>\n      <td>ZENT</td>\n    </tr>\n    <tr>\n      <th>499</th>\n      <td>Zydus Wellness Ltd.</td>\n      <td>CONSUMER GOODS</td>\n      <td>ZYDUSWELL</td>\n      <td>EQ</td>\n      <td>INE768C01010</td>\n      <td>ZYDS</td>\n    </tr>\n    <tr>\n      <th>500</th>\n      <td>eClerx Services Ltd.</td>\n      <td>IT</td>\n      <td>ECLERX</td>\n      <td>EQ</td>\n      <td>INE738I01010</td>\n      <td>ECLE</td>\n    </tr>\n  </tbody>\n</table>\n<p>501 rows × 6 columns</p>\n</div>"
     },
     "metadata": {},
     "execution_count": 10
    }
   ],
   "source": [
    "nifty500listdf['invpy_symbol']=nifty500listdf.apply(add_investpy_symbol,axis=1)\n",
    "#nifty500listdf[(nifty500listdf['invpy_symbol']=='NoSymbol')]\n",
    "nifty500listdf"
   ]
  },
  {
   "cell_type": "code",
   "execution_count": null,
   "metadata": {},
   "outputs": [],
   "source": []
  }
 ]
}